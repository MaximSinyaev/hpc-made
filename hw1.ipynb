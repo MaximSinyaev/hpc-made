{
 "cells": [
  {
   "cell_type": "code",
   "execution_count": 29,
   "id": "4a2adc84-23a6-4ce2-a6ed-a02ba50d77b2",
   "metadata": {},
   "outputs": [],
   "source": [
    "import pandas as pd\n",
    "import numpy as np\n",
    "\n",
    "import matplotlib.pyplot as plt"
   ]
  },
  {
   "cell_type": "markdown",
   "id": "b9a9485c-fca8-4ec3-b221-49d5d7566841",
   "metadata": {},
   "source": [
    "### 1. Прогнозирование вычислетельной мощности суперкомпьютеров на 2025 год\n",
    "\n",
    "50% На основании данных рейтинга top500 спрогнозировать  производительность компьютера №1 в 2025"
   ]
  },
  {
   "cell_type": "code",
   "execution_count": 6,
   "id": "d4a0c6cf-5890-4ddd-854a-e3431723adce",
   "metadata": {},
   "outputs": [],
   "source": [
    "# top = pd.read_xml('./data/./data/TOP500_202206_all.xml')\n",
    "top = pd.read_json('data/top500.json')"
   ]
  },
  {
   "cell_type": "code",
   "execution_count": 11,
   "id": "f712f280-3fa1-4736-8582-1db25f7aa323",
   "metadata": {},
   "outputs": [],
   "source": [
    "top_by_year = top.T.reset_index().rename(columns={'index': 'date'})"
   ]
  },
  {
   "cell_type": "code",
   "execution_count": 13,
   "id": "09445582-33c2-4455-9ab2-74f3e6c97961",
   "metadata": {},
   "outputs": [
    {
     "data": {
      "text/plain": [
       "[59.7, 'GFlop/s']"
      ]
     },
     "execution_count": 13,
     "metadata": {},
     "output_type": "execute_result"
    }
   ],
   "source": [
    "top_by_year['#1'].iloc[0]"
   ]
  },
  {
   "cell_type": "code",
   "execution_count": 14,
   "id": "5f1b1681-805f-48ff-bc3f-0b0fb16af948",
   "metadata": {},
   "outputs": [
    {
     "data": {
      "text/html": [
       "<div>\n",
       "<style scoped>\n",
       "    .dataframe tbody tr th:only-of-type {\n",
       "        vertical-align: middle;\n",
       "    }\n",
       "\n",
       "    .dataframe tbody tr th {\n",
       "        vertical-align: top;\n",
       "    }\n",
       "\n",
       "    .dataframe thead th {\n",
       "        text-align: right;\n",
       "    }\n",
       "</style>\n",
       "<table border=\"1\" class=\"dataframe\">\n",
       "  <thead>\n",
       "    <tr style=\"text-align: right;\">\n",
       "      <th></th>\n",
       "      <th>date</th>\n",
       "      <th>Sum</th>\n",
       "      <th>#1</th>\n",
       "      <th>#500</th>\n",
       "    </tr>\n",
       "  </thead>\n",
       "  <tbody>\n",
       "    <tr>\n",
       "      <th>0</th>\n",
       "      <td>1993-06-01</td>\n",
       "      <td>1100.0</td>\n",
       "      <td>59.7</td>\n",
       "      <td>0.4</td>\n",
       "    </tr>\n",
       "    <tr>\n",
       "      <th>1</th>\n",
       "      <td>1993-11-01</td>\n",
       "      <td>1500.0</td>\n",
       "      <td>124.0</td>\n",
       "      <td>0.5</td>\n",
       "    </tr>\n",
       "    <tr>\n",
       "      <th>2</th>\n",
       "      <td>1994-06-01</td>\n",
       "      <td>2300.0</td>\n",
       "      <td>143.4</td>\n",
       "      <td>0.8</td>\n",
       "    </tr>\n",
       "    <tr>\n",
       "      <th>3</th>\n",
       "      <td>1994-11-01</td>\n",
       "      <td>2700.0</td>\n",
       "      <td>170.0</td>\n",
       "      <td>1.2</td>\n",
       "    </tr>\n",
       "    <tr>\n",
       "      <th>4</th>\n",
       "      <td>1995-06-01</td>\n",
       "      <td>3900.0</td>\n",
       "      <td>170.0</td>\n",
       "      <td>2.0</td>\n",
       "    </tr>\n",
       "  </tbody>\n",
       "</table>\n",
       "</div>"
      ],
      "text/plain": [
       "        date     Sum     #1  #500\n",
       "0 1993-06-01  1100.0   59.7   0.4\n",
       "1 1993-11-01  1500.0  124.0   0.5\n",
       "2 1994-06-01  2300.0  143.4   0.8\n",
       "3 1994-11-01  2700.0  170.0   1.2\n",
       "4 1995-06-01  3900.0  170.0   2.0"
      ]
     },
     "execution_count": 14,
     "metadata": {},
     "output_type": "execute_result"
    }
   ],
   "source": [
    "top_by_year['date'] = pd.to_datetime(top_by_year['date'])\n",
    "top_by_year['#1'] = top_by_year['#1'].apply(lambda x: x[0])\n",
    "top_by_year['#500'] = top_by_year['#500'].apply(lambda x: x[0])\n",
    "top_by_year['Sum'] = top_by_year['Sum'].apply(lambda x: x[0])\n",
    "top_by_year.head(5)"
   ]
  },
  {
   "cell_type": "code",
   "execution_count": 15,
   "id": "dd0f064f-511f-48b9-b33b-84d577622ec8",
   "metadata": {},
   "outputs": [],
   "source": [
    "min_date = top_by_year['date'].min()\n",
    "top_by_year['days_from_release'] = (top_by_year['date'] - min_date).dt.days"
   ]
  },
  {
   "cell_type": "code",
   "execution_count": 16,
   "id": "c830493e-858e-4b6f-957a-b90adf72b702",
   "metadata": {},
   "outputs": [
    {
     "data": {
      "text/html": [
       "<div>\n",
       "<style scoped>\n",
       "    .dataframe tbody tr th:only-of-type {\n",
       "        vertical-align: middle;\n",
       "    }\n",
       "\n",
       "    .dataframe tbody tr th {\n",
       "        vertical-align: top;\n",
       "    }\n",
       "\n",
       "    .dataframe thead th {\n",
       "        text-align: right;\n",
       "    }\n",
       "</style>\n",
       "<table border=\"1\" class=\"dataframe\">\n",
       "  <thead>\n",
       "    <tr style=\"text-align: right;\">\n",
       "      <th></th>\n",
       "      <th>date</th>\n",
       "      <th>Sum</th>\n",
       "      <th>#1</th>\n",
       "      <th>#500</th>\n",
       "      <th>days_from_release</th>\n",
       "    </tr>\n",
       "  </thead>\n",
       "  <tbody>\n",
       "    <tr>\n",
       "      <th>0</th>\n",
       "      <td>1993-06-01</td>\n",
       "      <td>1100.0</td>\n",
       "      <td>59.7</td>\n",
       "      <td>0.4</td>\n",
       "      <td>0</td>\n",
       "    </tr>\n",
       "    <tr>\n",
       "      <th>1</th>\n",
       "      <td>1993-11-01</td>\n",
       "      <td>1500.0</td>\n",
       "      <td>124.0</td>\n",
       "      <td>0.5</td>\n",
       "      <td>153</td>\n",
       "    </tr>\n",
       "    <tr>\n",
       "      <th>2</th>\n",
       "      <td>1994-06-01</td>\n",
       "      <td>2300.0</td>\n",
       "      <td>143.4</td>\n",
       "      <td>0.8</td>\n",
       "      <td>365</td>\n",
       "    </tr>\n",
       "    <tr>\n",
       "      <th>3</th>\n",
       "      <td>1994-11-01</td>\n",
       "      <td>2700.0</td>\n",
       "      <td>170.0</td>\n",
       "      <td>1.2</td>\n",
       "      <td>518</td>\n",
       "    </tr>\n",
       "    <tr>\n",
       "      <th>4</th>\n",
       "      <td>1995-06-01</td>\n",
       "      <td>3900.0</td>\n",
       "      <td>170.0</td>\n",
       "      <td>2.0</td>\n",
       "      <td>730</td>\n",
       "    </tr>\n",
       "  </tbody>\n",
       "</table>\n",
       "</div>"
      ],
      "text/plain": [
       "        date     Sum     #1  #500  days_from_release\n",
       "0 1993-06-01  1100.0   59.7   0.4                  0\n",
       "1 1993-11-01  1500.0  124.0   0.5                153\n",
       "2 1994-06-01  2300.0  143.4   0.8                365\n",
       "3 1994-11-01  2700.0  170.0   1.2                518\n",
       "4 1995-06-01  3900.0  170.0   2.0                730"
      ]
     },
     "execution_count": 16,
     "metadata": {},
     "output_type": "execute_result"
    }
   ],
   "source": [
    "top_by_year.head()"
   ]
  },
  {
   "cell_type": "code",
   "execution_count": 20,
   "id": "5cbc57d2-09b9-4875-a474-523ee1d9a0fe",
   "metadata": {},
   "outputs": [],
   "source": [
    "x = top_by_year['days_from_release'].values\n",
    "y = top_by_year['#1'].values"
   ]
  },
  {
   "cell_type": "code",
   "execution_count": 27,
   "id": "1b5b1cd5-e05e-4273-a4d6-3e3959183350",
   "metadata": {},
   "outputs": [],
   "source": [
    "year_25_dt = pd.to_datetime('2025')\n",
    "year_2025_days = (year_25_dt - min_date).days"
   ]
  },
  {
   "cell_type": "code",
   "execution_count": 28,
   "id": "0da5c616-c069-4876-8f12-bbbbea694374",
   "metadata": {},
   "outputs": [],
   "source": [
    "def get_value(x, coef_):\n",
    "    y_pred = coef_[0]\n",
    "    for i in range(1, len(coef_)):\n",
    "        y_pred += x * coef_[i]\n",
    "        \n",
    "    return y_pred"
   ]
  },
  {
   "cell_type": "code",
   "execution_count": 37,
   "id": "2619d744-5a11-40d5-8d42-99de6db13173",
   "metadata": {},
   "outputs": [],
   "source": [
    "coef_l2 = np.polyfit(x, y, 2)\n",
    "coef_l1 = np.polyfit(x, y, 1)\n",
    "coef_exp = np.polyfit(x, np.log(y), 2)"
   ]
  },
  {
   "cell_type": "code",
   "execution_count": 38,
   "id": "880bac4c-bb48-4cdc-9a13-3353e505263d",
   "metadata": {},
   "outputs": [
    {
     "data": {
      "text/plain": [
       "array([ 2.,  3.,  4.,  5.,  6.,  7.,  8.,  9., 10., 11.])"
      ]
     },
     "execution_count": 38,
     "metadata": {},
     "output_type": "execute_result"
    }
   ],
   "source": [
    "1 + np.linspace(1, 10, 10)"
   ]
  },
  {
   "cell_type": "code",
   "execution_count": 40,
   "id": "1ca8b9f3-0599-4e1e-b3f6-2ff97316e0d1",
   "metadata": {},
   "outputs": [
    {
     "data": {
      "text/plain": [
       "(0, 11537, 500)"
      ]
     },
     "execution_count": 40,
     "metadata": {},
     "output_type": "execute_result"
    }
   ],
   "source": [
    "x_linspace"
   ]
  },
  {
   "cell_type": "code",
   "execution_count": 39,
   "id": "9976e545-8ccd-4e38-b724-394fbdee8eed",
   "metadata": {},
   "outputs": [],
   "source": [
    "x_linspace = (0, year_2025_days, 500)\n",
    "\n",
    "\n",
    "# pd.to_datetime(x_linspace)"
   ]
  },
  {
   "cell_type": "code",
   "execution_count": 35,
   "id": "18097fde-645e-4e94-9136-4a95f8cc06b1",
   "metadata": {},
   "outputs": [
    {
     "data": {
      "text/plain": [
       "<matplotlib.collections.PathCollection at 0x28e182e20>"
      ]
     },
     "execution_count": 35,
     "metadata": {},
     "output_type": "execute_result"
    },
    {
     "data": {
      "image/png": "[encoded data removed]",
      "text/plain": [
       "<Figure size 1152x648 with 1 Axes>"
      ]
     },
     "metadata": {
      "needs_background": "light"
     },
     "output_type": "display_data"
    }
   ],
   "source": [
    "plt.figure(figsize=(16, 9))\n",
    "plt.scatter(top_by_year['date'], y)\n",
    "\n",
    "x_linspace = (0, year_2025_days, 500)\n",
    "\n",
    "y_pred_l2 = get_value(x_linspace, coef_l2)\n",
    "plt.plot(y_pred_l2\n",
    "# plt.xlabel('"
   ]
  },
  {
   "cell_type": "code",
   "execution_count": null,
   "id": "9008998c-ed2b-4685-b7f6-632aa171f842",
   "metadata": {},
   "outputs": [],
   "source": []
  }
 ],
 "metadata": {
  "kernelspec": {
   "display_name": "Python 3 (ipykernel)",
   "language": "python",
   "name": "python3"
  },
  "language_info": {
   "codemirror_mode": {
    "name": "ipython",
    "version": 3
   },
   "file_extension": ".py",
   "mimetype": "text/x-python",
   "name": "python",
   "nbconvert_exporter": "python",
   "pygments_lexer": "ipython3",
   "version": "3.9.10"
  }
 },
 "nbformat": 4,
 "nbformat_minor": 5
}
